{
 "cells": [
  {
   "cell_type": "code",
   "execution_count": 1,
   "metadata": {},
   "outputs": [],
   "source": [
    "#exercise for AQUA's Grover algo/class & CustomCircuitOracle class\n",
    "\n",
    "import numpy as np\n",
    "from qiskit import BasicAer\n",
    "from qiskit.tools.visualization import plot_histogram\n",
    "from qiskit.aqua import QuantumInstance, run_algorithm\n",
    "from qiskit import QuantumCircuit, ClassicalRegister, QuantumRegister, execute\n",
    "from qiskit.aqua.algorithms import Grover\n",
    "from qiskit.aqua.components.oracles import CustomCircuitOracle, LogicalExpressionOracle, TruthTableOracle\n",
    "#clasa de baza Oracle nu merge - abstracta"
   ]
  },
  {
   "cell_type": "code",
   "execution_count": 2,
   "metadata": {},
   "outputs": [],
   "source": [
    "#prepare quantum and classical registers\n",
    "qv = QuantumRegister(2, name='variable')\n",
    "qo = QuantumRegister(1, name='output')\n",
    "#qa = QuantumRegister(1)\n",
    "#cr = ClassicalRegister(2)\n",
    "#prepare quantum circuit\n",
    "groverCircuit = QuantumCircuit(qv,qo)\n",
    "#initialize quantum circuit\n",
    "#groverCircuit.h(qv)\n",
    "#groverCircuit.h(qo)"
   ]
  },
  {
   "cell_type": "code",
   "execution_count": null,
   "metadata": {},
   "outputs": [],
   "source": [
    "#Oracle for |w> =  |00> ; formed from a CCX gate\n",
    "#groverCircuit.x(qv)\n",
    "groverCircuit.ccx(qv[0],qv[1],qo[0])\n",
    "groverCircuit.x(qv)\n",
    "# apply H gate\n",
    "#groverCircuit.h(qv)\n",
    "#groverCircuit.h(qo)\n",
    "\n",
    "orcl = CustomCircuitOracle(variable_register=qv,output_register=qo, circuit=groverCircuit,\n",
    "                           evaluate_classically_callback=lambda m:(m=='00', [1,2]))"
   ]
  },
  {
   "cell_type": "code",
   "execution_count": null,
   "metadata": {},
   "outputs": [],
   "source": [
    "#Oracle for |w> =  |01> ; formed from a CCX gate\n",
    "groverCircuit.x(qv[0])\n",
    "groverCircuit.ccx(qv[0],qv[1],qo[0])\n",
    "\n",
    "orcl = CustomCircuitOracle(variable_register=qv,output_register=qo, circuit=groverCircuit,\n",
    "                           evaluate_classically_callback=lambda m:(m=='01', [1,2]))"
   ]
  },
  {
   "cell_type": "code",
   "execution_count": null,
   "metadata": {},
   "outputs": [],
   "source": [
    "#Oracle for |w> =  |10> ; formed from a CCX gate\n",
    "groverCircuit.x(qv[1])\n",
    "groverCircuit.ccx(qv[0],qv[1],qo[0])\n",
    "\n",
    "orcl = CustomCircuitOracle(variable_register=qv,output_register=qo, circuit=groverCircuit,\n",
    "                           evaluate_classically_callback=lambda m:(m=='10', [1,2]))"
   ]
  },
  {
   "cell_type": "code",
   "execution_count": 3,
   "metadata": {},
   "outputs": [],
   "source": [
    "#Oracle for |w> =  |11> ; formed from a CCX gate\n",
    "groverCircuit.ccx(qv[0],qv[1],qo[0])\n",
    "\n",
    "orcl = CustomCircuitOracle(variable_register=qv,output_register=qo, circuit=groverCircuit,\n",
    "                           evaluate_classically_callback=lambda m:(m=='11', [1,2]))"
   ]
  },
  {
   "cell_type": "code",
   "execution_count": 4,
   "metadata": {},
   "outputs": [
    {
     "data": {
      "image/png": "[encoded data removed]",
      "text/plain": [
       "<Figure size 292.572x204.68 with 1 Axes>"
      ]
     },
     "execution_count": 4,
     "metadata": {},
     "output_type": "execute_result"
    }
   ],
   "source": [
    "groverCircuit.draw(output=\"mpl\")"
   ]
  },
  {
   "cell_type": "code",
   "execution_count": 5,
   "metadata": {},
   "outputs": [],
   "source": [
    "#use oracle to create a grover instance\n",
    "grover = Grover(orcl)"
   ]
  },
  {
   "cell_type": "code",
   "execution_count": 6,
   "metadata": {},
   "outputs": [
    {
     "name": "stdout",
     "output_type": "stream",
     "text": [
      "[1, 2]\n"
     ]
    }
   ],
   "source": [
    "#use the qasm simulator backend and run grover instance\n",
    "backend = BasicAer.get_backend('qasm_simulator')\n",
    "quantum_instance = QuantumInstance(backend, shots=1024)\n",
    "result = grover.run(quantum_instance)\n",
    "print(result['result'])"
   ]
  },
  {
   "cell_type": "code",
   "execution_count": 7,
   "metadata": {
    "scrolled": true
   },
   "outputs": [
    {
     "data": {
      "image/png": "[encoded data removed]",
      "text/plain": [
       "<Figure size 504x360 with 1 Axes>"
      ]
     },
     "execution_count": 7,
     "metadata": {},
     "output_type": "execute_result"
    }
   ],
   "source": [
    "plot_histogram(result['measurement'])"
   ]
  },
  {
   "cell_type": "code",
   "execution_count": null,
   "metadata": {},
   "outputs": [],
   "source": []
  }
 ],
 "metadata": {
  "kernelspec": {
   "display_name": "Python 3",
   "language": "python",
   "name": "python3"
  },
  "language_info": {
   "codemirror_mode": {
    "name": "ipython",
    "version": 3
   },
   "file_extension": ".py",
   "mimetype": "text/x-python",
   "name": "python",
   "nbconvert_exporter": "python",
   "pygments_lexer": "ipython3",
   "version": "3.7.4"
  }
 },
 "nbformat": 4,
 "nbformat_minor": 2
}
